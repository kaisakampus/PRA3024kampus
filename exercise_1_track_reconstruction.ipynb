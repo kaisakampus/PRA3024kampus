{
 "cells": [
  {
   "cell_type": "markdown",
   "metadata": {},
   "source": [
    "Solving track reconstruction\n",
    "=======================\n",
    "\n",
    "Up until now, we have created tracks. However, tracks should fulfill some criteria in order to make sense from a physical standpoint: It wouldn't make sense to have several tracks coming from the same hits, or to join random hits together.\n",
    "\n",
    "Typically one uses known geometrical constraints alongside problem-specific knowledge in order to determine where to look for tracks, and how should tracks look like. Ultimately, there are five quantities one has to look after:\n",
    "\n",
    "\n",
    "*   Reconstruction Efficiency: The fraction of particles we have reconstructed.\n",
    "    > \\# correctly reconstructed / \\# real tracks\n",
    "\n",
    "*   Clone Tracks: Tracks that are similar to other correctly reconstructed tracks.\n",
    "    > \\# clone tracks / \\# correctly reconstructed\n",
    "\n",
    "*   Fake Tracks: Tracks that are incorrect, either created by noise hits or by incorrectly reconstructing a track.\n",
    "    > \\# incorrectly reconstructed / \\# all reconstructed\n",
    "\n",
    "*   Hit purity: Fraction of hits in a track that belong to the same MC particle.\n",
    "    > \\# track hits in MC particle hits / \\# track hits\n",
    "    \n",
    "*   Hit efficiency: Number of hits correctly found out of the MC particle hits in a track.\n",
    "    > \\# track hits in MC particle hits / \\# MC particle hits\n",
    "\n",
    "Phew, that was quite a mouthful. If you want one thing to look for at the beginning, that is to *maximize reconstruction efficiency*. First try to reconstruct as much correct as possible, and work out the other indicators one by one.\n",
    "\n",
    "Alongside the velopix tracking project there are a few algorithms we can try:"
   ]
  },
  {
   "cell_type": "code",
   "execution_count": null,
   "metadata": {},
   "outputs": [],
   "source": [
    "# Run this if you didn't run it previously\n",
    "!git clone https://github.com/dcampora/velopix_tracking.git"
   ]
  },
  {
   "cell_type": "code",
   "execution_count": null,
   "metadata": {},
   "outputs": [],
   "source": [
    "import sys, os\n",
    "sys.path.append(os.getcwd() + \"/../\")\n",
    "sys.path.append(os.getcwd() + \"/velopix_tracking/\")\n",
    "\n",
    "import json\n",
    "from event_model import event_model as em\n",
    "\n",
    "f = open(\"velopix_tracking/events/velo_event_0.json\")\n",
    "json_data = json.loads(f.read())\n",
    "event = em.event(json_data)\n",
    "f.close()"
   ]
  },
  {
   "cell_type": "markdown",
   "metadata": {},
   "source": [
    "Track following is a technique that reconstructs hits by visiting neighbouring modules. One first creates tracklets or *seeds* and posteriorly follows those tracks until no more hits are found.\n",
    "\n",
    "<img src=\"velopix_tracking/doc/reco_example.png\" alt=\"Track follow example\" />\n",
    "\n",
    "Included with the project is a track following implementation. Let's check it out."
   ]
  },
  {
   "cell_type": "code",
   "execution_count": null,
   "metadata": {},
   "outputs": [],
   "source": [
    "from algorithms.track_following import track_following\n",
    "\n",
    "# Instantiate track following\n",
    "track_following = track_following()\n",
    "\n",
    "# Solve the event\n",
    "tracks = track_following.solve(event)\n",
    "\n",
    "print(\"Found %i tracks with track following!\" % len(tracks))"
   ]
  },
  {
   "cell_type": "markdown",
   "metadata": {},
   "source": [
    "Track following found tracks, but are these the good tracks? For that, we will need to employ a validator:"
   ]
  },
  {
   "cell_type": "code",
   "execution_count": null,
   "metadata": {},
   "outputs": [],
   "source": [
    "from validator import validator_lite as vl\n",
    "vl.validate_print([json_data], [tracks])"
   ]
  },
  {
   "cell_type": "markdown",
   "metadata": {},
   "source": [
    "Results are shown for different track categories. Track categories are detector-specific, and refer to different types of tracks depending on the subdetectors they traverse, their energy, the particle decay where they originated from, direction, etc.\n",
    "\n",
    "<img src=\"docs/track_types.png\" alt=\"Track follow example\" style=\"width: 600px\" />\n",
    "\n",
    "In the previous case, you can see some tracks are \"velo\" tracks or \"long\" tracks, which you can interpret from the image above."
   ]
  },
  {
   "cell_type": "markdown",
   "metadata": {},
   "source": [
    "Exercise 2\n",
    "---------------\n",
    "\n",
    "Let's first visualize what just happened.\n",
    "\n",
    "* Use `print_event_2d` to print the event, and then print the event with the tracks found by `track_following`."
   ]
  },
  {
   "cell_type": "code",
   "execution_count": null,
   "metadata": {},
   "outputs": [],
   "source": [
    "from visual.base import print_event_2d\n",
    "%matplotlib inline"
   ]
  },
  {
   "cell_type": "markdown",
   "metadata": {},
   "source": [
    "* The statistics we have are insufficient. Load iteratively all 10 events and run `track_following` on them. Finally, run the validator once with all the `json` data and all tracks. Do the numbers correspond with the previous ones?"
   ]
  },
  {
   "cell_type": "code",
   "execution_count": null,
   "metadata": {},
   "outputs": [],
   "source": []
  },
  {
   "cell_type": "markdown",
   "metadata": {},
   "source": [
    "The fake rate is a big higher than expected. It could be that some of the tracks with less hits are incorrect.\n",
    "\n",
    "* Remove all tracks with 3 hits and run the validator. Do the results improve? What are the tradeoffs?"
   ]
  },
  {
   "cell_type": "code",
   "execution_count": null,
   "metadata": {},
   "outputs": [],
   "source": []
  },
  {
   "cell_type": "markdown",
   "metadata": {},
   "source": [
    "Exercise 4\n",
    "---------------\n",
    "\n",
    "If you still have energy in you, with everything you have learned you have now the tools to attempt creating your own track reconstruction algorithm.\n",
    "\n",
    "We will first need a function to determine whether a track looks good or bad. One such function is the *means squared error*:\n",
    "\n",
    "* Create a means_squared_error method that gets a track as an input and calculates the MSE (https://en.wikipedia.org/wiki/Mean_squared_error) of a track."
   ]
  },
  {
   "cell_type": "code",
   "execution_count": null,
   "metadata": {},
   "outputs": [],
   "source": []
  },
  {
   "cell_type": "markdown",
   "metadata": {
    "collapsed": true
   },
   "source": [
    "Now that you have a function to qualify how good a track is *you are in business*. A rough approximation at a tracking in the VELO is as follows:\n",
    "\n",
    "1. Iterate over 3 modules until you find a *triplet* of hits whose MSE is under a threshold.\n",
    "2. Extrapolate those hits to the remaining modules until you find no compatible hits with the MSE method in a module.\n",
    "\n",
    "Implement such a tracking algorithm, and have fun playing around with the data!"
   ]
  },
  {
   "cell_type": "code",
   "execution_count": null,
   "metadata": {},
   "outputs": [],
   "source": []
  }
 ],
 "metadata": {
  "kernelspec": {
   "display_name": "Python 3",
   "language": "python",
   "name": "python3"
  },
  "language_info": {
   "codemirror_mode": {
    "name": "ipython",
    "version": 3
   },
   "file_extension": ".py",
   "mimetype": "text/x-python",
   "name": "python",
   "nbconvert_exporter": "python",
   "pygments_lexer": "ipython3",
   "version": "3.9.1"
  }
 },
 "nbformat": 4,
 "nbformat_minor": 1
}
