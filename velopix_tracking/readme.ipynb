{
 "cells": [
  {
   "cell_type": "markdown",
   "metadata": {},
   "source": [
    "Track reconstruction made easy\n",
    "==============================\n",
    "\n",
    "This is a pet project to do track reconstruction,\n",
    "based on real data coming from the LHCb detector at CERN.\n",
    "\n",
    "Think you can make it better? Go ahead and try!"
   ]
  },
  {
   "cell_type": "code",
   "execution_count": 1,
   "metadata": {
    "collapsed": false
   },
   "outputs": [
    {
     "name": "stdout",
     "output_type": "stream",
     "text": [
      "Invoking classical solver...\n",
      "Found 117 tracks\n",
      "117 tracks including        3 ghosts (  2.6%). Event average   2.6%\n",
      "              velo :      107 from      114 ( 93.9%,  93.9%)        2 clones (  1.87%), purity: ( 98.99%,  98.99%),  hitEff: ( 98.01%,  98.01%)\n",
      "              long :       39 from       39 (100.0%, 100.0%)        2 clones (  5.13%), purity: ( 97.98%,  97.98%),  hitEff: ( 96.74%,  96.74%)\n",
      "         long>5GeV :       30 from       30 (100.0%, 100.0%)        2 clones (  6.67%), purity: ( 98.03%,  98.03%),  hitEff: ( 96.45%,  96.45%)\n",
      "      long_strange :        2 from        2 (100.0%, 100.0%)        0 clones (  0.00%), purity: (100.00%, 100.00%),  hitEff: (100.00%, 100.00%)\n",
      "None\n",
      "        long_fromb :       13 from       13 (100.0%, 100.0%)        0 clones (  0.00%), purity: ( 98.46%,  98.46%),  hitEff: ( 98.46%,  98.46%)\n",
      "   long_fromb>5GeV :       12 from       12 (100.0%, 100.0%)        0 clones (  0.00%), purity: (100.00%, 100.00%),  hitEff: (100.00%, 100.00%)\n",
      "RE long>5GeV, [0-1]: 1.0\n",
      "CF long>5GeV, [0-1]: 0.06666666666666667\n",
      "GF of all tracks, [0-1]: 0.02564102564102564\n"
     ]
    }
   ],
   "source": [
    "from simple_track_forwarding import *"
   ]
  },
  {
   "cell_type": "markdown",
   "metadata": {},
   "source": [
    "What is track reconstruction?\n",
    "-----------------------------\n",
    "\n",
    "At the LHCb detector, millions of particles collide at speeds\n",
    "close to the speed of light, leaving traces (hits) on the modules\n",
    "placed in their way.\n",
    "\n",
    "The collisions that happen at the same time are packed\n",
    "into an *event*, and sent to one of our servers,\n",
    "that must reconstruct the tracks that formed each particle\n",
    "in real time.\n",
    "\n",
    "This project contains events in json format. These events are\n",
    "then processed by some reconstruction algorithm, and finally\n",
    "the results are validated. That is, the particles found by\n",
    "the solver are matched against the real particles that came out of\n",
    "the collisions in the event.\n",
    "\n",
    "![velopix reconstruction example](reco_example.png \"velopix reconstruction example\")\n",
    "\n",
    "The algorithm included is just one way of doing it, but perhaps\n",
    "not the most efficient one!"
   ]
  },
  {
   "cell_type": "markdown",
   "metadata": {},
   "source": [
    "Diving into details\n",
    "-------------------\n",
    "\n",
    "Input files are specified in json. An *event model* to parse them\n",
    "is shipped with this project."
   ]
  },
  {
   "cell_type": "code",
   "execution_count": 3,
   "metadata": {
    "collapsed": true
   },
   "outputs": [],
   "source": [
    "import event_model as em\n",
    "import json\n",
    "f = open(\"velojson/0.json\")\n",
    "json_data = json.loads(f.read())\n",
    "event = em.event(json_data)\n",
    "f.close()"
   ]
  },
  {
   "cell_type": "markdown",
   "metadata": {},
   "source": [
    "The LHCb Velopix detector has 52 modules. Spread across the modules,\n",
    "we should have many hits, depending on the event we are on."
   ]
  },
  {
   "cell_type": "code",
   "execution_count": 5,
   "metadata": {
    "collapsed": false
   },
   "outputs": [
    {
     "name": "stdout",
     "output_type": "stream",
     "text": [
      "52\n",
      "1003\n"
     ]
    }
   ],
   "source": [
    "print(len(event.modules))\n",
    "print(len(event.hits))"
   ]
  },
  {
   "cell_type": "markdown",
   "metadata": {},
   "source": [
    "Hits are composed of an ID, and {x, y, z} coordinates."
   ]
  },
  {
   "cell_type": "code",
   "execution_count": 6,
   "metadata": {
    "collapsed": false
   },
   "outputs": [
    {
     "name": "stdout",
     "output_type": "stream",
     "text": [
      "#117979 {-3.385275, 13.436796, -275.531006}\n"
     ]
    }
   ],
   "source": [
    "print(event.hits[0])"
   ]
  },
  {
   "cell_type": "markdown",
   "metadata": {},
   "source": [
    "modules are placed at some z in the detector. Each module\n",
    "may have as many hits as particles crossed by it, plus some noise to\n",
    "make things interesting."
   ]
  },
  {
   "cell_type": "code",
   "execution_count": 7,
   "metadata": {
    "collapsed": false
   },
   "outputs": [
    {
     "name": "stdout",
     "output_type": "stream",
     "text": [
      "module 0:\n",
      " At z: -275\n",
      " Number of hits: 18\n",
      " Hits (#id {x, y, z}): [#117979 {-3.385275, 13.436796, -275.531006}, #128942 {0.017677, 13.495132, -275.531006}, #134072 {0.464924, 12.270069, -275.531006}, #134107 {-0.896257, 10.908888, -275.531006}, #134562 {1.417747, 13.067333, -275.531006}, #141439 {3.828983, 13.37846, -275.531006}, #178943 {4.529018, 2.722359, -275.531006}, #193779 {7.231934, 0.913937, -275.531006}, #268042 {24.997992, 21.066479, -274.468994}, #326966 {14.341893, 28.261292, -274.468994}, #389073 {-1.207973, 31.742023, -274.468994}, #542432 {3.986314, -5.6763, -274.468994}, #557605 {13.572914, -10.634886, -274.468994}, #569059 {7.894847, -1.534422, -274.468994}, #573093 {10.928335, -3.323402, -274.468994}, #861641 {30.529337, -0.678823, -275.531006}, #905103 {26.154114, -9.526497, -275.531006}, #941420 {21.934456, -16.507406, -275.531006}]\n"
     ]
    }
   ],
   "source": [
    "print(event.modules[0])"
   ]
  },
  {
   "cell_type": "markdown",
   "metadata": {},
   "source": [
    "A simplistic implementation runs through all modules sequentially,\n",
    "finding tracks by matching hits in a straight line."
   ]
  },
  {
   "cell_type": "code",
   "execution_count": 8,
   "metadata": {
    "collapsed": false
   },
   "outputs": [
    {
     "name": "stdout",
     "output_type": "stream",
     "text": [
      "117\n",
      "Track hits #14: [#53557115 {5.485382, -22.965059, 736.968994}, #51465608 {5.115919, -21.623325, 686.968994}, #49373845 {4.785345, -20.28159, 636.968994}, #47282337 {4.435328, -18.959301, 586.968994}, #45196219 {3.754736, -16.295275, 486.968994}, #43110101 {3.093594, -13.611805, 386.968994}, #41020905 {2.646347, -11.608925, 311.968994}, #38928886 {2.315776, -10.267189, 261.968994}, #36834557 {2.160213, -9.567154, 236.968994}, #34078922 {2.100107, -9.273705, 225.531006}, #31983573 {1.944543, -8.573669, 200.531006}, #29887968 {1.769534, -7.89308, 175.531006}, #27792619 {1.613971, -7.193043, 150.531006}, #25697270 {1.438962, -6.512453, 125.530998}]\n"
     ]
    }
   ],
   "source": [
    "from classical_solver import classical_solver\n",
    "tracks = classical_solver().solve(event)\n",
    "print(len(tracks))\n",
    "print(tracks[0])"
   ]
  },
  {
   "cell_type": "markdown",
   "metadata": {},
   "source": [
    "Finally, we should validate these results, and we'll look\n",
    "at three things:\n",
    "    \n",
    "*   Reconstruction Efficiency: The fraction of real particles we have reconstructed.\n",
    "    > \\# correctly reconstructed / \\# real tracks\n",
    "\n",
    "*   Clone Tracks: Tracks that are similar to other correctly reconstructed tracks.\n",
    "    > \\# clone tracks / \\# correctly reconstructed\n",
    "\n",
    "*   Ghost Tracks: Tracks that are incorrect, either created by noise or by incorrectly reconstructing a track.\n",
    "    > \\# incorrectly reconstructed / \\# all reconstructed\n",
    "\n",
    "We will get the validation detailed for different kinds of particles."
   ]
  },
  {
   "cell_type": "code",
   "execution_count": 9,
   "metadata": {
    "collapsed": false
   },
   "outputs": [
    {
     "name": "stdout",
     "output_type": "stream",
     "text": [
      "117 tracks including        3 ghosts (  2.6%). Event average   2.6%\n",
      "              velo :      107 from      114 ( 93.9%,  93.9%)        2 clones (  1.87%), purity: ( 98.99%,  98.99%),  hitEff: ( 98.01%,  98.01%)\n",
      "              long :       39 from       39 (100.0%, 100.0%)        2 clones (  5.13%), purity: ( 97.98%,  97.98%),  hitEff: ( 96.74%,  96.74%)\n",
      "         long>5GeV :       30 from       30 (100.0%, 100.0%)        2 clones (  6.67%), purity: ( 98.03%,  98.03%),  hitEff: ( 96.45%,  96.45%)\n",
      "      long_strange :        2 from        2 (100.0%, 100.0%)        0 clones (  0.00%), purity: (100.00%, 100.00%),  hitEff: (100.00%, 100.00%)\n",
      "None\n",
      "        long_fromb :       13 from       13 (100.0%, 100.0%)        0 clones (  0.00%), purity: ( 98.46%,  98.46%),  hitEff: ( 98.46%,  98.46%)\n",
      "   long_fromb>5GeV :       12 from       12 (100.0%, 100.0%)        0 clones (  0.00%), purity: (100.00%, 100.00%),  hitEff: (100.00%, 100.00%)\n"
     ]
    }
   ],
   "source": [
    "import validator_lite as vl\n",
    "vl.validate_print([json_data], [tracks])"
   ]
  },
  {
   "cell_type": "code",
   "execution_count": null,
   "metadata": {
    "collapsed": true
   },
   "outputs": [],
   "source": []
  }
 ],
 "metadata": {
  "kernelspec": {
   "display_name": "Python 3",
   "language": "python",
   "name": "python3"
  },
  "language_info": {
   "codemirror_mode": {
    "name": "ipython",
    "version": 3
   },
   "file_extension": ".py",
   "mimetype": "text/x-python",
   "name": "python",
   "nbconvert_exporter": "python",
   "pygments_lexer": "ipython3",
   "version": "3.4.3"
  }
 },
 "nbformat": 4,
 "nbformat_minor": 0
}
